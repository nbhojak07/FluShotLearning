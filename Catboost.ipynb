{
 "cells": [
  {
   "cell_type": "code",
   "execution_count": 17,
   "metadata": {},
   "outputs": [],
   "source": [
    "import pandas as pd\n",
    "from pandas.api.types import CategoricalDtype\n",
    "import numpy as np\n",
    "import seaborn as sns\n",
    "\n",
    "from sklearn.model_selection import train_test_split\n",
    "from sklearn.metrics import accuracy_score, roc_auc_score, plot_roc_curve, confusion_matrix\n",
    "\n",
    "import matplotlib.pyplot as plt\n",
    "\n",
    "\n",
    "from catboost import CatBoostClassifier, Pool"
   ]
  },
  {
   "cell_type": "code",
   "execution_count": 2,
   "metadata": {},
   "outputs": [],
   "source": [
    "features = pd.read_csv(\"training_set_features.csv\")\n",
    "labels = pd.read_csv(\"training_set_labels.csv\")\n",
    "test_data = pd.read_csv(\"test_set_features.csv\")"
   ]
  },
  {
   "cell_type": "code",
   "execution_count": 4,
   "metadata": {},
   "outputs": [],
   "source": [
    "h1n1_train_data, h1n1_val_data, h1n1_train_labels, h1n1_val_labels = train_test_split(\n",
    "    features, labels['h1n1_vaccine'],\n",
    "    test_size= 0.2,\n",
    "    stratify=labels['h1n1_vaccine'])"
   ]
  },
  {
   "cell_type": "code",
   "execution_count": 5,
   "metadata": {},
   "outputs": [],
   "source": [
    "def fill_nulls(df):\n",
    "    for col in df:\n",
    "        if df[col].dtypes==\"object\":\n",
    "            df[col].fillna(\"other\", inplace=True)\n",
    "        else:\n",
    "            df[col].fillna(h1n1_train_data[col].mean(), inplace=True)\n",
    "    return df"
   ]
  },
  {
   "cell_type": "code",
   "execution_count": 6,
   "metadata": {},
   "outputs": [
    {
     "name": "stderr",
     "output_type": "stream",
     "text": [
      "C:\\ProgramData\\Anaconda3\\lib\\site-packages\\pandas\\core\\series.py:4517: SettingWithCopyWarning: \n",
      "A value is trying to be set on a copy of a slice from a DataFrame\n",
      "\n",
      "See the caveats in the documentation: https://pandas.pydata.org/pandas-docs/stable/user_guide/indexing.html#returning-a-view-versus-a-copy\n",
      "  return super().fillna(\n"
     ]
    }
   ],
   "source": [
    "h1n1_train_data = fill_nulls(h1n1_train_data)\n",
    "h1n1_val_data = fill_nulls(h1n1_val_data)"
   ]
  },
  {
   "cell_type": "code",
   "execution_count": 7,
   "metadata": {},
   "outputs": [],
   "source": [
    "cat_features = ['age_group', 'education', 'race', 'sex',\n",
    "            'income_poverty', 'marital_status',\n",
    "            'rent_or_own', 'employment_status',\n",
    "            'hhs_geo_region', 'census_msa',\n",
    "            'employment_industry', 'employment_occupation']"
   ]
  },
  {
   "cell_type": "code",
   "execution_count": 8,
   "metadata": {},
   "outputs": [
    {
     "name": "stdout",
     "output_type": "stream",
     "text": [
      "0:\tlearn: 0.8444184\ttotal: 202ms\tremaining: 1m 40s\n",
      "100:\tlearn: 0.8561198\ttotal: 3.55s\tremaining: 14s\n",
      "200:\tlearn: 0.8617365\ttotal: 6.89s\tremaining: 10.3s\n",
      "300:\tlearn: 0.8652469\ttotal: 10.2s\tremaining: 6.73s\n",
      "400:\tlearn: 0.8682425\ttotal: 13.6s\tremaining: 3.35s\n",
      "499:\tlearn: 0.8716125\ttotal: 16.9s\tremaining: 0us\n"
     ]
    },
    {
     "data": {
      "text/plain": [
       "<catboost.core.CatBoostClassifier at 0x1bcd9d9d4c0>"
      ]
     },
     "execution_count": 8,
     "metadata": {},
     "output_type": "execute_result"
    }
   ],
   "source": [
    "h1n1_model = CatBoostClassifier(\n",
    "    eval_metric = \"Accuracy\",\n",
    "    iterations = 500,\n",
    "    learning_rate = 0.03\n",
    ")\n",
    "h1n1_model.fit(\n",
    "    h1n1_train_data, h1n1_train_labels,\n",
    "    cat_features = cat_features,\n",
    "    verbose = 100\n",
    ")"
   ]
  },
  {
   "cell_type": "code",
   "execution_count": 9,
   "metadata": {},
   "outputs": [],
   "source": [
    "h1n1_preds = h1n1_model.predict(h1n1_val_data)\n",
    "h1n1_prob = h1n1_model.predict_proba(h1n1_val_data)[:,1]\n",
    "h1n1_acc_score = accuracy_score(h1n1_val_labels, h1n1_preds)\n",
    "h1n1_auc_score = roc_auc_score(h1n1_val_labels, h1n1_prob)"
   ]
  },
  {
   "cell_type": "code",
   "execution_count": 10,
   "metadata": {},
   "outputs": [
    {
     "name": "stdout",
     "output_type": "stream",
     "text": [
      "H1N1 Accuracy:  0.8562336203669038\n",
      "H1N1 AUC:  0.8717662716533907\n"
     ]
    }
   ],
   "source": [
    "print(\"H1N1 Accuracy: \", h1n1_acc_score)\n",
    "print(\"H1N1 AUC: \", h1n1_auc_score)"
   ]
  },
  {
   "cell_type": "code",
   "execution_count": 15,
   "metadata": {},
   "outputs": [
    {
     "data": {
      "image/png": "[encoded data removed]",
      "text/plain": [
       "<Figure size 432x288 with 1 Axes>"
      ]
     },
     "metadata": {
      "needs_background": "light"
     },
     "output_type": "display_data"
    }
   ],
   "source": [
    "plot_roc_curve(h1n1_model, h1n1_val_data, h1n1_val_labels)  \n",
    "plt.show()  "
   ]
  },
  {
   "cell_type": "code",
   "execution_count": 18,
   "metadata": {},
   "outputs": [
    {
     "name": "stdout",
     "output_type": "stream",
     "text": [
      "[[4006  201]\n",
      " [ 567  568]]\n"
     ]
    }
   ],
   "source": [
    "# GETTING THE CONFUSION MATRIX\n",
    "cm1=np.array(confusion_matrix(h1n1_val_labels,h1n1_preds))\n",
    "print(cm1)"
   ]
  },
  {
   "cell_type": "code",
   "execution_count": 30,
   "metadata": {},
   "outputs": [
    {
     "data": {
      "text/plain": [
       "<AxesSubplot:title={'center':'CatBoost H1N1 Vaccine'}>"
      ]
     },
     "execution_count": 30,
     "metadata": {},
     "output_type": "execute_result"
    },
    {
     "data": {
      "image/png": "[encoded data removed]",
      "text/plain": [
       "<Figure size 432x288 with 2 Axes>"
      ]
     },
     "metadata": {
      "needs_background": "light"
     },
     "output_type": "display_data"
    }
   ],
   "source": [
    "plt.title(\"CatBoost H1N1 Vaccine\")\n",
    "sns.heatmap(cm1/np.sum(cm1), annot=True, \n",
    "            fmt='.2%', cmap='Blues')"
   ]
  },
  {
   "cell_type": "markdown",
   "metadata": {},
   "source": [
    "SEASONAL MODEL"
   ]
  },
  {
   "cell_type": "code",
   "execution_count": 21,
   "metadata": {},
   "outputs": [],
   "source": [
    "seasonal_train_data, seasonal_val_data, seasonal_train_labels, seasonal_val_labels = train_test_split(\n",
    "    features, labels['seasonal_vaccine'],\n",
    "    test_size= 0.2,\n",
    "    stratify=labels['seasonal_vaccine'])"
   ]
  },
  {
   "cell_type": "code",
   "execution_count": 22,
   "metadata": {},
   "outputs": [
    {
     "name": "stderr",
     "output_type": "stream",
     "text": [
      "C:\\ProgramData\\Anaconda3\\lib\\site-packages\\pandas\\core\\series.py:4517: SettingWithCopyWarning: \n",
      "A value is trying to be set on a copy of a slice from a DataFrame\n",
      "\n",
      "See the caveats in the documentation: https://pandas.pydata.org/pandas-docs/stable/user_guide/indexing.html#returning-a-view-versus-a-copy\n",
      "  return super().fillna(\n"
     ]
    }
   ],
   "source": [
    "seasonal_train_data = fill_nulls(seasonal_train_data)\n",
    "seasonal_val_data = fill_nulls(seasonal_val_data)"
   ]
  },
  {
   "cell_type": "code",
   "execution_count": 23,
   "metadata": {},
   "outputs": [
    {
     "name": "stdout",
     "output_type": "stream",
     "text": [
      "0:\tlearn: 0.7520711\ttotal: 33.1ms\tremaining: 16.5s\n",
      "100:\tlearn: 0.7847414\ttotal: 3.46s\tremaining: 13.7s\n",
      "200:\tlearn: 0.7934004\ttotal: 6.98s\tremaining: 10.4s\n",
      "300:\tlearn: 0.7989235\ttotal: 10.6s\tremaining: 7.01s\n",
      "400:\tlearn: 0.8036040\ttotal: 14s\tremaining: 3.45s\n",
      "499:\tlearn: 0.8083314\ttotal: 17.4s\tremaining: 0us\n"
     ]
    },
    {
     "data": {
      "text/plain": [
       "<catboost.core.CatBoostClassifier at 0x1bcdb355610>"
      ]
     },
     "execution_count": 23,
     "metadata": {},
     "output_type": "execute_result"
    }
   ],
   "source": [
    "seasonal_model = CatBoostClassifier(\n",
    "    eval_metric = \"Accuracy\",\n",
    "    iterations = 500,\n",
    "    learning_rate = 0.03\n",
    ")\n",
    "seasonal_model.fit(\n",
    "    seasonal_train_data, seasonal_train_labels,\n",
    "    cat_features = cat_features,\n",
    "    verbose = 100\n",
    ")"
   ]
  },
  {
   "cell_type": "code",
   "execution_count": 24,
   "metadata": {},
   "outputs": [],
   "source": [
    "seasonal_preds = seasonal_model.predict(seasonal_val_data)\n",
    "seasonal_prob = seasonal_model.predict_proba(seasonal_val_data)[:, 1]\n",
    "seasonal_acc_score = accuracy_score(seasonal_val_labels, seasonal_preds)\n",
    "seasonal_auc_score = roc_auc_score(seasonal_val_labels, seasonal_prob)"
   ]
  },
  {
   "cell_type": "code",
   "execution_count": 25,
   "metadata": {},
   "outputs": [
    {
     "name": "stdout",
     "output_type": "stream",
     "text": [
      "Seasonal Accuracy:  0.7871583676525645\n",
      "Seasonal AUC:  0.8656388350772528\n"
     ]
    }
   ],
   "source": [
    "print(\"Seasonal Accuracy: \", seasonal_acc_score)\n",
    "print(\"Seasonal AUC: \", seasonal_auc_score)"
   ]
  },
  {
   "cell_type": "code",
   "execution_count": 26,
   "metadata": {},
   "outputs": [
    {
     "data": {
      "image/png": "[encoded data removed]",
      "text/plain": [
       "<Figure size 432x288 with 1 Axes>"
      ]
     },
     "metadata": {
      "needs_background": "light"
     },
     "output_type": "display_data"
    }
   ],
   "source": [
    "plot_roc_curve(seasonal_model, seasonal_val_data, seasonal_val_labels)  \n",
    "plt.show()  "
   ]
  },
  {
   "cell_type": "code",
   "execution_count": 27,
   "metadata": {},
   "outputs": [
    {
     "name": "stdout",
     "output_type": "stream",
     "text": [
      "[[2313  542]\n",
      " [ 595 1892]]\n"
     ]
    }
   ],
   "source": [
    "# GETTING THE CONFUSION MATRIX\n",
    "cm2=np.array(confusion_matrix(seasonal_val_labels,seasonal_preds))\n",
    "print(cm2)"
   ]
  },
  {
   "cell_type": "code",
   "execution_count": 28,
   "metadata": {},
   "outputs": [
    {
     "data": {
      "text/plain": [
       "<AxesSubplot:title={'center':'Catboost Seasonal Vaccine'}>"
      ]
     },
     "execution_count": 28,
     "metadata": {},
     "output_type": "execute_result"
    },
    {
     "data": {
      "image/png": "[encoded data removed]",
      "text/plain": [
       "<Figure size 432x288 with 2 Axes>"
      ]
     },
     "metadata": {
      "needs_background": "light"
     },
     "output_type": "display_data"
    }
   ],
   "source": [
    "plt.title(\"Catboost Seasonal Vaccine\")\n",
    "sns.heatmap(cm2/np.sum(cm2), annot=True, \n",
    "            fmt='.2%', cmap='Blues')"
   ]
  },
  {
   "cell_type": "code",
   "execution_count": 29,
   "metadata": {},
   "outputs": [
    {
     "name": "stdout",
     "output_type": "stream",
     "text": [
      "AVG AUC:  0.8687025533653218\n"
     ]
    }
   ],
   "source": [
    "print(\"AVG AUC: \", (h1n1_auc_score+seasonal_auc_score)/2)"
   ]
  },
  {
   "cell_type": "code",
   "execution_count": null,
   "metadata": {},
   "outputs": [],
   "source": []
  }
 ],
 "metadata": {
  "kernelspec": {
   "display_name": "Python 3",
   "language": "python",
   "name": "python3"
  },
  "language_info": {
   "codemirror_mode": {
    "name": "ipython",
    "version": 3
   },
   "file_extension": ".py",
   "mimetype": "text/x-python",
   "name": "python",
   "nbconvert_exporter": "python",
   "pygments_lexer": "ipython3",
   "version": "3.8.5"
  }
 },
 "nbformat": 4,
 "nbformat_minor": 4
}
