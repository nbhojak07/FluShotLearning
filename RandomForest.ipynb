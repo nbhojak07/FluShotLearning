{
 "cells": [
  {
   "cell_type": "code",
   "execution_count": 1,
   "metadata": {},
   "outputs": [],
   "source": [
    "import pandas as pd\n",
    "from sklearn.ensemble import RandomForestClassifier\n",
    "from sklearn.model_selection import train_test_split\n",
    "from sklearn.metrics import accuracy_score, roc_auc_score, plot_roc_curve, confusion_matrix\n",
    "import matplotlib.pyplot as plt\n",
    "import numpy as np\n",
    "import seaborn as sns"
   ]
  },
  {
   "cell_type": "code",
   "execution_count": 2,
   "metadata": {},
   "outputs": [],
   "source": [
    "features = pd.read_csv(\"training_set_features.csv\", index_col=\"respondent_id\")\n",
    "labels = pd.read_csv(\"training_set_labels.csv\",index_col=\"respondent_id\")\n",
    "test_data = pd.read_csv(\"test_set_features.csv\")"
   ]
  },
  {
   "cell_type": "code",
   "execution_count": 6,
   "metadata": {},
   "outputs": [],
   "source": [
    "def fill_nulls(df):\n",
    "    for col in df:\n",
    "        if df[col].dtypes==\"object\":\n",
    "            df[col].fillna(df[col].mode()[0], inplace=True)\n",
    "        else:\n",
    "            df[col].fillna(h1n1_train_data[col].mean(), inplace=True)\n",
    "    return df"
   ]
  },
  {
   "cell_type": "code",
   "execution_count": 7,
   "metadata": {},
   "outputs": [],
   "source": [
    "# h1n1_vaccine Model\n",
    "h1n1_train_data, h1n1_val_data, h1n1_train_labels, h1n1_val_labels = train_test_split(\n",
    "    features, labels['h1n1_vaccine'],\n",
    "    test_size= 0.2)"
   ]
  },
  {
   "cell_type": "code",
   "execution_count": 8,
   "metadata": {},
   "outputs": [
    {
     "name": "stderr",
     "output_type": "stream",
     "text": [
      "C:\\ProgramData\\Anaconda3\\lib\\site-packages\\pandas\\core\\series.py:4517: SettingWithCopyWarning: \n",
      "A value is trying to be set on a copy of a slice from a DataFrame\n",
      "\n",
      "See the caveats in the documentation: https://pandas.pydata.org/pandas-docs/stable/user_guide/indexing.html#returning-a-view-versus-a-copy\n",
      "  return super().fillna(\n"
     ]
    }
   ],
   "source": [
    "# Filling Null Values\n",
    "h1n1_train_data = fill_nulls(h1n1_train_data)\n",
    "h1n1_val_data = fill_nulls(h1n1_val_data)"
   ]
  },
  {
   "cell_type": "code",
   "execution_count": 9,
   "metadata": {},
   "outputs": [
    {
     "name": "stdout",
     "output_type": "stream",
     "text": [
      "h1n1_concern 0.0\n",
      "h1n1_knowledge 0.0\n",
      "behavioral_antiviral_meds 0.0\n",
      "behavioral_avoidance 0.0\n",
      "behavioral_face_mask 0.0\n",
      "behavioral_wash_hands 0.0\n",
      "behavioral_large_gatherings 0.0\n",
      "behavioral_outside_home 0.0\n",
      "behavioral_touch_face 0.0\n",
      "doctor_recc_h1n1 0.0\n",
      "doctor_recc_seasonal 0.0\n",
      "chronic_med_condition 0.0\n",
      "child_under_6_months 0.0\n",
      "health_worker 0.0\n",
      "health_insurance 0.0\n",
      "opinion_h1n1_vacc_effective 0.0\n",
      "opinion_h1n1_risk 0.0\n",
      "opinion_h1n1_sick_from_vacc 0.0\n",
      "opinion_seas_vacc_effective 0.0\n",
      "opinion_seas_risk 0.0\n",
      "opinion_seas_sick_from_vacc 0.0\n",
      "age_group 0.0\n",
      "education 0.0\n",
      "race 0.0\n",
      "sex 0.0\n",
      "income_poverty 0.0\n",
      "marital_status 0.0\n",
      "rent_or_own 0.0\n",
      "employment_status 0.0\n",
      "hhs_geo_region 0.0\n",
      "census_msa 0.0\n",
      "household_adults 0.0\n",
      "household_children 0.0\n",
      "employment_industry 0.0\n",
      "employment_occupation 0.0\n"
     ]
    }
   ],
   "source": [
    "for col in h1n1_train_data:\n",
    "    print(col, (h1n1_train_data[col].isnull().sum()/len(h1n1_train_data))*100)"
   ]
  },
  {
   "cell_type": "code",
   "execution_count": 10,
   "metadata": {},
   "outputs": [],
   "source": [
    "def category_encode(df):\n",
    "    for col in df:\n",
    "        if df[col].dtypes==\"object\":\n",
    "            df[col] = df[col].astype('category')\n",
    "            df[col] = df[col].cat.codes\n",
    "    return df"
   ]
  },
  {
   "cell_type": "code",
   "execution_count": 11,
   "metadata": {},
   "outputs": [
    {
     "name": "stderr",
     "output_type": "stream",
     "text": [
      "<ipython-input-10-c5d2771f9309>:4: SettingWithCopyWarning: \n",
      "A value is trying to be set on a copy of a slice from a DataFrame.\n",
      "Try using .loc[row_indexer,col_indexer] = value instead\n",
      "\n",
      "See the caveats in the documentation: https://pandas.pydata.org/pandas-docs/stable/user_guide/indexing.html#returning-a-view-versus-a-copy\n",
      "  df[col] = df[col].astype('category')\n",
      "<ipython-input-10-c5d2771f9309>:5: SettingWithCopyWarning: \n",
      "A value is trying to be set on a copy of a slice from a DataFrame.\n",
      "Try using .loc[row_indexer,col_indexer] = value instead\n",
      "\n",
      "See the caveats in the documentation: https://pandas.pydata.org/pandas-docs/stable/user_guide/indexing.html#returning-a-view-versus-a-copy\n",
      "  df[col] = df[col].cat.codes\n"
     ]
    }
   ],
   "source": [
    "h1n1_train_data = category_encode(h1n1_train_data)\n",
    "h1n1_val_data = category_encode(h1n1_val_data)"
   ]
  },
  {
   "cell_type": "code",
   "execution_count": 12,
   "metadata": {},
   "outputs": [
    {
     "data": {
      "text/plain": [
       "RandomForestClassifier()"
      ]
     },
     "execution_count": 12,
     "metadata": {},
     "output_type": "execute_result"
    }
   ],
   "source": [
    "RF_model = RandomForestClassifier(n_estimators=100)\n",
    "RF_model.fit(h1n1_train_data, h1n1_train_labels)"
   ]
  },
  {
   "cell_type": "code",
   "execution_count": 13,
   "metadata": {},
   "outputs": [],
   "source": [
    "RF_preds = RF_model.predict(h1n1_val_data)\n",
    "RF_acc_score = accuracy_score(h1n1_val_labels, RF_preds)\n",
    "RF_prob = RF_model.predict_proba(h1n1_val_data)[:,1]\n",
    "RF_auc_score = roc_auc_score(h1n1_val_labels, RF_prob)"
   ]
  },
  {
   "cell_type": "code",
   "execution_count": 14,
   "metadata": {},
   "outputs": [
    {
     "name": "stdout",
     "output_type": "stream",
     "text": [
      "0.8547360539123924\n",
      "0.8676634900118132\n"
     ]
    }
   ],
   "source": [
    "print(RF_acc_score)\n",
    "print(RF_auc_score)"
   ]
  },
  {
   "cell_type": "code",
   "execution_count": 15,
   "metadata": {},
   "outputs": [
    {
     "data": {
      "image/png": "[encoded data removed]",
      "text/plain": [
       "<Figure size 432x288 with 1 Axes>"
      ]
     },
     "metadata": {
      "needs_background": "light"
     },
     "output_type": "display_data"
    }
   ],
   "source": [
    "plot_roc_curve(RF_model, h1n1_val_data, h1n1_val_labels)  \n",
    "plt.show()  "
   ]
  },
  {
   "cell_type": "code",
   "execution_count": 16,
   "metadata": {},
   "outputs": [
    {
     "name": "stdout",
     "output_type": "stream",
     "text": [
      "[[4057  168]\n",
      " [ 608  509]]\n"
     ]
    }
   ],
   "source": [
    "# GETTING THE CONFUSION MATRIX\n",
    "cm1=np.array(confusion_matrix(h1n1_val_labels,RF_preds))\n",
    "print(cm1)"
   ]
  },
  {
   "cell_type": "code",
   "execution_count": 28,
   "metadata": {},
   "outputs": [
    {
     "data": {
      "text/plain": [
       "<AxesSubplot:title={'center':'Random Forest Classifier- H1N1 Vaccine'}>"
      ]
     },
     "execution_count": 28,
     "metadata": {},
     "output_type": "execute_result"
    },
    {
     "data": {
      "image/png": "[encoded data removed]",
      "text/plain": [
       "<Figure size 432x288 with 2 Axes>"
      ]
     },
     "metadata": {
      "needs_background": "light"
     },
     "output_type": "display_data"
    }
   ],
   "source": [
    "plt.title(\"Random Forest Classifier- H1N1 Vaccine\")\n",
    "sns.heatmap(cm1/np.sum(cm1), annot=True, \n",
    "            fmt='.2%', cmap='Blues')"
   ]
  },
  {
   "cell_type": "markdown",
   "metadata": {},
   "source": [
    "SEASONAL MODEL "
   ]
  },
  {
   "cell_type": "code",
   "execution_count": 18,
   "metadata": {},
   "outputs": [],
   "source": [
    "seasonal_train_data, seasonal_val_data, seasonal_train_labels, seasonal_val_labels = train_test_split(\n",
    "    features, labels['seasonal_vaccine'],\n",
    "    test_size= 0.2)"
   ]
  },
  {
   "cell_type": "code",
   "execution_count": 19,
   "metadata": {},
   "outputs": [
    {
     "name": "stderr",
     "output_type": "stream",
     "text": [
      "C:\\ProgramData\\Anaconda3\\lib\\site-packages\\pandas\\core\\series.py:4517: SettingWithCopyWarning: \n",
      "A value is trying to be set on a copy of a slice from a DataFrame\n",
      "\n",
      "See the caveats in the documentation: https://pandas.pydata.org/pandas-docs/stable/user_guide/indexing.html#returning-a-view-versus-a-copy\n",
      "  return super().fillna(\n"
     ]
    }
   ],
   "source": [
    "# Fill Null Values\n",
    "\n",
    "seasonal_train_data = fill_nulls(seasonal_train_data)\n",
    "seasonal_val_data = fill_nulls(seasonal_val_data)"
   ]
  },
  {
   "cell_type": "code",
   "execution_count": 20,
   "metadata": {},
   "outputs": [
    {
     "name": "stderr",
     "output_type": "stream",
     "text": [
      "<ipython-input-10-c5d2771f9309>:4: SettingWithCopyWarning: \n",
      "A value is trying to be set on a copy of a slice from a DataFrame.\n",
      "Try using .loc[row_indexer,col_indexer] = value instead\n",
      "\n",
      "See the caveats in the documentation: https://pandas.pydata.org/pandas-docs/stable/user_guide/indexing.html#returning-a-view-versus-a-copy\n",
      "  df[col] = df[col].astype('category')\n",
      "<ipython-input-10-c5d2771f9309>:5: SettingWithCopyWarning: \n",
      "A value is trying to be set on a copy of a slice from a DataFrame.\n",
      "Try using .loc[row_indexer,col_indexer] = value instead\n",
      "\n",
      "See the caveats in the documentation: https://pandas.pydata.org/pandas-docs/stable/user_guide/indexing.html#returning-a-view-versus-a-copy\n",
      "  df[col] = df[col].cat.codes\n"
     ]
    }
   ],
   "source": [
    "seasonal_train_data = category_encode(seasonal_train_data)\n",
    "seasonal_val_data = category_encode(seasonal_val_data)"
   ]
  },
  {
   "cell_type": "code",
   "execution_count": 21,
   "metadata": {},
   "outputs": [
    {
     "data": {
      "text/plain": [
       "RandomForestClassifier()"
      ]
     },
     "execution_count": 21,
     "metadata": {},
     "output_type": "execute_result"
    }
   ],
   "source": [
    "RF_seasonal = RandomForestClassifier(n_estimators=100)\n",
    "RF_seasonal.fit(seasonal_train_data, seasonal_train_labels)"
   ]
  },
  {
   "cell_type": "code",
   "execution_count": 22,
   "metadata": {},
   "outputs": [],
   "source": [
    "RF_seasonal_preds = RF_seasonal.predict(seasonal_val_data)\n",
    "seasonal_acc_score = accuracy_score(seasonal_val_labels, RF_seasonal_preds)\n",
    "RF_seasonal_prob = RF_seasonal.predict_proba(seasonal_val_data)[:,1]\n",
    "seasonal_auc_score = roc_auc_score(seasonal_val_labels, RF_seasonal_prob)"
   ]
  },
  {
   "cell_type": "code",
   "execution_count": 23,
   "metadata": {},
   "outputs": [
    {
     "name": "stdout",
     "output_type": "stream",
     "text": [
      "0.788655934107076\n",
      "0.8605721051247646\n"
     ]
    }
   ],
   "source": [
    "print(seasonal_acc_score)\n",
    "print(seasonal_auc_score)"
   ]
  },
  {
   "cell_type": "code",
   "execution_count": 24,
   "metadata": {},
   "outputs": [
    {
     "data": {
      "image/png": "[encoded data removed]",
      "text/plain": [
       "<Figure size 432x288 with 1 Axes>"
      ]
     },
     "metadata": {
      "needs_background": "light"
     },
     "output_type": "display_data"
    }
   ],
   "source": [
    "plot_roc_curve(RF_seasonal, seasonal_val_data, seasonal_val_labels)  \n",
    "plt.show()  "
   ]
  },
  {
   "cell_type": "code",
   "execution_count": 25,
   "metadata": {},
   "outputs": [
    {
     "name": "stdout",
     "output_type": "stream",
     "text": [
      "[[2360  524]\n",
      " [ 605 1853]]\n"
     ]
    }
   ],
   "source": [
    "# GETTING THE CONFUSION MATRIX\n",
    "cm2=np.array(confusion_matrix(seasonal_val_labels,RF_seasonal_preds))\n",
    "print(cm2)"
   ]
  },
  {
   "cell_type": "code",
   "execution_count": 29,
   "metadata": {},
   "outputs": [
    {
     "data": {
      "text/plain": [
       "<AxesSubplot:title={'center':'Random Forest Classifier- Seasonal Vaccine'}>"
      ]
     },
     "execution_count": 29,
     "metadata": {},
     "output_type": "execute_result"
    },
    {
     "data": {
      "image/png": "[encoded data removed]",
      "text/plain": [
       "<Figure size 432x288 with 2 Axes>"
      ]
     },
     "metadata": {
      "needs_background": "light"
     },
     "output_type": "display_data"
    }
   ],
   "source": [
    "plt.title(\"Random Forest Classifier- Seasonal Vaccine\")\n",
    "sns.heatmap(cm2/np.sum(cm2), annot=True, \n",
    "            fmt='.2%', cmap='Blues')"
   ]
  },
  {
   "cell_type": "code",
   "execution_count": 27,
   "metadata": {},
   "outputs": [
    {
     "name": "stdout",
     "output_type": "stream",
     "text": [
      "AVG AUC:  0.8641177975682889\n"
     ]
    }
   ],
   "source": [
    "print(\"AVG AUC: \", (RF_auc_score+seasonal_auc_score)/2)"
   ]
  },
  {
   "cell_type": "code",
   "execution_count": null,
   "metadata": {},
   "outputs": [],
   "source": []
  }
 ],
 "metadata": {
  "kernelspec": {
   "display_name": "Python 3",
   "language": "python",
   "name": "python3"
  },
  "language_info": {
   "codemirror_mode": {
    "name": "ipython",
    "version": 3
   },
   "file_extension": ".py",
   "mimetype": "text/x-python",
   "name": "python",
   "nbconvert_exporter": "python",
   "pygments_lexer": "ipython3",
   "version": "3.8.5"
  }
 },
 "nbformat": 4,
 "nbformat_minor": 4
}
